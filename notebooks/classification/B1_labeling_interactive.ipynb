{
 "cells": [
  {
   "cell_type": "markdown",
   "id": "c6860758-e614-4e0b-b9bb-3cc55af78e9c",
   "metadata": {},
   "source": [
    "# Intro"
   ]
  },
  {
   "cell_type": "markdown",
   "id": "82a37590-30ae-4d92-a889-0c173759fae9",
   "metadata": {},
   "source": [
    "Welcome to the interactive labeling notebook!\n",
    "\n",
    "The notebook proceeds as follows:\n",
    "\n",
    "1. **Import** libraries\n",
    "2. Define **paths** to data\n",
    "3. **Label** ROI images using a simple GUI\n",
    "4. **Visualize** results\n",
    "5. **Save** results\n"
   ]
  },
  {
   "cell_type": "markdown",
   "id": "3e3bccb7",
   "metadata": {},
   "source": [
    "- If you need to restart a session, don't worry. Your results are continuously saved in the CSV file and you can just start from where you left off.\n",
    "- We recommend labeling one session at a time so that the results can be saved with the data."
   ]
  },
  {
   "cell_type": "markdown",
   "id": "c4a1f6ef-7075-4cc3-a046-dd170bb957b9",
   "metadata": {},
   "source": [
    "# Import libraries"
   ]
  },
  {
   "cell_type": "markdown",
   "id": "452c74a7-c5bb-4b8b-ad89-b52323b131b0",
   "metadata": {},
   "source": [
    "Widen the notebook"
   ]
  },
  {
   "cell_type": "code",
   "execution_count": 1,
   "id": "68aa0919-eb8b-4abb-b87d-c60b5bd0b39d",
   "metadata": {},
   "outputs": [
    {
     "data": {
      "text/html": [
       "<style>.container {width:95% !important; }</style>"
      ],
      "text/plain": [
       "<IPython.core.display.HTML object>"
      ]
     },
     "metadata": {},
     "output_type": "display_data"
    },
    {
     "data": {
      "text/html": [
       "<style>:root { --jp-notebook-max-width: 100% !important; }</style>"
      ],
      "text/plain": [
       "<IPython.core.display.HTML object>"
      ]
     },
     "metadata": {},
     "output_type": "display_data"
    }
   ],
   "source": [
    "# widen jupyter notebook window\n",
    "from IPython.display import display, HTML\n",
    "display(HTML(\"<style>.container {width:95% !important; }</style>\"))\n",
    "display(HTML(\"<style>:root { --jp-notebook-max-width: 100% !important; }</style>\"))"
   ]
  },
  {
   "cell_type": "markdown",
   "id": "d0fe2758-1ac9-4a38-986e-5fd0dc26746b",
   "metadata": {},
   "source": [
    "Import basic libraries"
   ]
  },
  {
   "cell_type": "code",
   "execution_count": 2,
   "id": "da1adf6d-d3b0-4f15-8f9a-97569ef95272",
   "metadata": {},
   "outputs": [],
   "source": [
    "from pathlib import Path\n",
    "import random\n",
    "\n",
    "import numpy as np\n",
    "import matplotlib.pyplot as plt"
   ]
  },
  {
   "cell_type": "markdown",
   "id": "3e77df19-80a4-4fa9-b7df-e19647d0727a",
   "metadata": {},
   "source": [
    "Import `roicat`"
   ]
  },
  {
   "cell_type": "code",
   "execution_count": 3,
   "id": "a76c9b80-07c8-40bd-b85d-130c3447dd8d",
   "metadata": {},
   "outputs": [],
   "source": [
    "import roicat"
   ]
  },
  {
   "cell_type": "code",
   "execution_count": 4,
   "id": "b1e46e96",
   "metadata": {},
   "outputs": [],
   "source": [
    "# Import vrAnalysis related code\n",
    "from vrAnalysis import database"
   ]
  },
  {
   "cell_type": "markdown",
   "id": "670046e1-e139-4a5b-a946-57ba7e59794c",
   "metadata": {},
   "source": [
    "# Find paths to data"
   ]
  },
  {
   "cell_type": "markdown",
   "id": "872ed40f-14d1-47d5-82cb-27eb991e49e0",
   "metadata": {},
   "source": [
    "##### Prepare list of paths to data"
   ]
  },
  {
   "cell_type": "markdown",
   "id": "469b96a5-db27-418e-8f40-f62a6760f6d6",
   "metadata": {},
   "source": [
    "In this example we are using suite2p output files, but other data types can be used (CaImAn, etc.) \\\n",
    "See the notebook on ingesting diverse data: https://github.com/RichieHakim/ROICaT/blob/main/notebooks/jupyter/other/demo_data_importing.ipynb\n",
    "\n",
    "Make a list containing the paths to all the input files.\n",
    "\n",
    "In this example we are using suite2p, so the following are defined:\n",
    "1. `paths_allStat`: a list to all the stat.npy files\n",
    "2. `paths_allOps`: a list with ops.npy files that correspond 1-to-1 with the stat.npy files"
   ]
  },
  {
   "cell_type": "code",
   "execution_count": 5,
   "id": "87a29774-374a-475c-b4c0-b3c2443d461b",
   "metadata": {},
   "outputs": [
    {
     "name": "stdout",
     "output_type": "stream",
     "text": [
      "0 C:\\Users\\andrew\\Documents\\localData\\ATL027\\2023-07-19\\701\n",
      "1 C:\\Users\\andrew\\Documents\\localData\\ATL027\\2023-07-20\\701\n",
      "2 C:\\Users\\andrew\\Documents\\localData\\ATL027\\2023-07-21\\701\n",
      "3 C:\\Users\\andrew\\Documents\\localData\\ATL027\\2023-07-24\\701\n",
      "4 C:\\Users\\andrew\\Documents\\localData\\ATL027\\2023-07-25\\701\n",
      "5 C:\\Users\\andrew\\Documents\\localData\\ATL027\\2023-07-26\\701\n",
      "6 C:\\Users\\andrew\\Documents\\localData\\ATL027\\2023-07-27\\701\n",
      "7 C:\\Users\\andrew\\Documents\\localData\\ATL027\\2023-07-28\\701\n",
      "8 C:\\Users\\andrew\\Documents\\localData\\ATL027\\2023-08-01\\701\n",
      "9 C:\\Users\\andrew\\Documents\\localData\\ATL027\\2023-08-02\\701\n",
      "10 C:\\Users\\andrew\\Documents\\localData\\ATL027\\2023-08-04\\702\n",
      "11 C:\\Users\\andrew\\Documents\\localData\\ATL027\\2023-08-07\\701\n",
      "12 C:\\Users\\andrew\\Documents\\localData\\ATL027\\2023-08-08\\701\n",
      "13 C:\\Users\\andrew\\Documents\\localData\\ATL027\\2023-08-09\\701\n"
     ]
    }
   ],
   "source": [
    "# Create link to vrDatabase containing all data and get session paths for target mouse\n",
    "mouseName = \"ATL027\"\n",
    "planeName = \"plane0\"\n",
    "vrdb = database.vrDatabase('vrSessions')\n",
    "ises = vrdb.iterSessions(imaging=True, mouseName=mouseName, dontTrack=False)\n",
    "pathList = []\n",
    "for ses in ises:\n",
    "    pathList.append(ses.sessionPath())\n",
    "for idx, pl in enumerate(pathList): print(idx, pl)"
   ]
  },
  {
   "cell_type": "code",
   "execution_count": 7,
   "id": "40ace698",
   "metadata": {},
   "outputs": [
    {
     "name": "stdout",
     "output_type": "stream",
     "text": [
      "paths to all stat files:\n",
      "C:\\Users\\andrew\\Documents\\localData\\ATL027\\2023-08-04\\702\\suite2p\\plane0\\stat.npy\n",
      "C:\\Users\\andrew\\Documents\\localData\\ATL027\\2023-08-04\\702\\suite2p\\plane1\\stat.npy\n",
      "C:\\Users\\andrew\\Documents\\localData\\ATL027\\2023-08-04\\702\\suite2p\\plane2\\stat.npy\n",
      "C:\\Users\\andrew\\Documents\\localData\\ATL027\\2023-08-04\\702\\suite2p\\plane3\\stat.npy\n",
      "C:\\Users\\andrew\\Documents\\localData\\ATL027\\2023-08-04\\702\\suite2p\\plane4\\stat.npy\n",
      "\n",
      "paths to all ops files:\n",
      "C:\\Users\\Andrew\\Documents\\localData\\ATL027\\2023-08-04\\702\\suite2p\\plane0\\ops.npy\n",
      "C:\\Users\\Andrew\\Documents\\localData\\ATL027\\2023-08-04\\702\\suite2p\\plane1\\ops.npy\n",
      "C:\\Users\\Andrew\\Documents\\localData\\ATL027\\2023-08-04\\702\\suite2p\\plane2\\ops.npy\n",
      "C:\\Users\\Andrew\\Documents\\localData\\ATL027\\2023-08-04\\702\\suite2p\\plane3\\ops.npy\n",
      "C:\\Users\\Andrew\\Documents\\localData\\ATL027\\2023-08-04\\702\\suite2p\\plane4\\ops.npy\n"
     ]
    }
   ],
   "source": [
    "dir_allOuterFolders = pathList[10] #r'/media/rich/bigSSD/analysis_data/face_rhythm/mouse_0403L/stat_and_ops'\n",
    "\n",
    "pathSuffixToStat = 'stat.npy'\n",
    "pathSuffixToOps = 'ops.npy'\n",
    "\n",
    "paths_stat = roicat.helpers.find_paths(\n",
    "    dir_outer=dir_allOuterFolders,\n",
    "    reMatch=pathSuffixToStat,\n",
    "    depth=6,\n",
    ")[:]\n",
    "paths_ops  = np.array([Path(path).resolve().parent / pathSuffixToOps for path in paths_stat])[:]\n",
    "\n",
    "print(f'paths to all stat files:');\n",
    "[print(path) for path in paths_stat];\n",
    "print('');\n",
    "print(f'paths to all ops files:');\n",
    "[print(path) for path in paths_ops];"
   ]
  },
  {
   "cell_type": "code",
   "execution_count": 8,
   "id": "c182ac92-e186-44d4-af5f-3135200e8f26",
   "metadata": {},
   "outputs": [
    {
     "name": "stderr",
     "output_type": "stream",
     "text": [
      "c:\\users\\andrew\\documents\\github\\roicat\\roicat\\util.py:416: UserWarning: RH WARNING: unable to get gcc version. Got error: [WinError 2] The system cannot find the file specified\n",
      "  warnings.warn(f'RH WARNING: unable to get gcc version. Got error: {e}')\n"
     ]
    },
    {
     "name": "stdout",
     "output_type": "stream",
     "text": [
      "Starting: Importing FOV images from ops files\n",
      "Completed: Set FOV_height and FOV_width successfully.\n",
      "Completed: Imported 5 FOV images.\n",
      "Setting FOV_images...\n",
      "Completed: Set FOV_images for 5 sessions successfully.\n",
      "Importing spatial footprints from stat files.\n"
     ]
    },
    {
     "name": "stderr",
     "output_type": "stream",
     "text": [
      "100%|██████████| 5/5 [00:02<00:00,  1.74it/s]\n"
     ]
    },
    {
     "name": "stdout",
     "output_type": "stream",
     "text": [
      "Imported 5 sessions of spatial footprints into sparse arrays.\n",
      "Completed: Set spatialFootprints for 5 sessions successfully.\n",
      "Completed: Created session_bool.\n",
      "Completed: Created centroids.\n",
      "Starting: Creating centered ROI images from spatial footprints...\n",
      "Completed: Created ROI images.\n"
     ]
    }
   ],
   "source": [
    "data = roicat.data_importing.Data_suite2p(\n",
    "    paths_statFiles=paths_stat,\n",
    "    paths_opsFiles=paths_ops,\n",
    "    new_or_old_suite2p='new',\n",
    "    verbose=True,\n",
    ")\n",
    "\n",
    "assert data.check_completeness(verbose=False)['classification_inference'], f\"Data object is missing attributes necessary for tracking.\""
   ]
  },
  {
   "cell_type": "markdown",
   "id": "9940b64f",
   "metadata": {},
   "source": [
    "# Label data"
   ]
  },
  {
   "cell_type": "markdown",
   "id": "229488f2",
   "metadata": {},
   "source": [
    "How to use this GUI:\n",
    "- Each image will be shown one at a time. You can go to previous and next images by using the ***Left*** and ***Right*** arrow keys, and can close the GUI by pressing the ***Escape*** key.\n",
    "- Label the image by pressing any key on your keyboard. This key will be used as the label. After each key press, the following occurs:\n",
    "    1. The results will be saved as a CSV file at `path_csv` (will be a temporary file if not specified)\n",
    "    2. The results will also be stored in the python object as `ImageLabeler_obj.labels_`.\n",
    "    2. The GUI should progress to the next image.\n",
    "    3. Finish labeling by closing out of the GUI window or pressing the user defined '`end_key`' (***Escape*** by default).\n",
    "- The results are stored in a temporary CSV file with two columns: 'index' and 'label'. This file can be used to recover lost labeling session data. We will save more comprehensive results files at the end of the notebook.\n",
    "    - **'index'**: The index within the data object. 0-indexed.\n",
    "    - **'label'**: The key pressed for that image in the labeling GUI.\n",
    "- To start at a different image index than 0, change the `start_index` argument."
   ]
  },
  {
   "cell_type": "code",
   "execution_count": 11,
   "id": "0b3bdc55",
   "metadata": {},
   "outputs": [
    {
     "data": {
      "text/plain": [
       "dict_keys(['labels_list', 'labels_dict', 'labels_df'])"
      ]
     },
     "execution_count": 11,
     "metadata": {},
     "output_type": "execute_result"
    }
   ],
   "source": [
    "labels.keys()"
   ]
  },
  {
   "cell_type": "code",
   "execution_count": 10,
   "id": "88429888",
   "metadata": {},
   "outputs": [
    {
     "name": "stdout",
     "output_type": "stream",
     "text": [
      "Image 0: c\n",
      "Image 1: c\n",
      "Image 2: c\n",
      "Image 3: c\n",
      "Image 4: c\n",
      "Image 5: c\n",
      "Image 6: c\n",
      "Image 7: c\n",
      "Image 8: c\n",
      "Image 9: c\n",
      "Image 10: c\n",
      "Image 11: c\n",
      "Image 12: c\n",
      "Image 13: c\n",
      "Image 14: c\n",
      "Image 15: c\n",
      "Image 16: c\n",
      "Image 17: c\n",
      "Image 18: c\n",
      "Image 19: c\n",
      "Image 20: c\n",
      "Image 21: c\n",
      "Image 22: c\n",
      "Image 23: c\n",
      "Image 24: c\n",
      "Image 25: w\n",
      "Image 26: c\n",
      "Image 27: c\n",
      "Image 28: c\n",
      "Image 29: c\n",
      "Image 30: c\n",
      "Image 31: c\n",
      "Image 32: c\n",
      "Image 33: c\n",
      "Image 34: c\n",
      "Image 35: c\n",
      "Image 36: c\n",
      "Image 37: c\n",
      "Image 38: c\n",
      "Image 37: w\n",
      "Image 38: c\n",
      "Image 39: c\n",
      "Image 40: c\n",
      "Image 41: o\n",
      "Image 42: c\n",
      "Image 43: c\n",
      "Image 44: c\n",
      "Image 45: c\n",
      "Image 46: c\n",
      "Image 47: c\n",
      "Image 48: c\n",
      "Image 49: c\n",
      "Image 50: c\n",
      "Image 51: c\n",
      "Image 52: c\n",
      "Image 53: c\n",
      "Image 54: c\n",
      "Image 55: c\n",
      "Image 56: c\n",
      "Image 57: c\n",
      "Image 58: c\n",
      "Image 58: o\n",
      "Image 59: c\n",
      "Image 60: c\n",
      "Image 61: c\n",
      "Image 62: c\n",
      "Image 63: c\n",
      "Image 64: c\n",
      "Image 65: c\n",
      "Image 66: c\n",
      "Image 67: c\n",
      "Image 68: c\n",
      "Image 69: c\n",
      "Image 70: c\n",
      "Image 71: c\n",
      "Image 72: c\n",
      "Image 72: o\n"
     ]
    },
    {
     "ename": "KeyError",
     "evalue": "'list'",
     "output_type": "error",
     "traceback": [
      "\u001b[1;31m---------------------------------------------------------------------------\u001b[0m",
      "\u001b[1;31mKeyError\u001b[0m                                  Traceback (most recent call last)",
      "Cell \u001b[1;32mIn[10], line 22\u001b[0m\n\u001b[0;32m     14\u001b[0m     labeler\u001b[38;5;241m.\u001b[39mrun()\n\u001b[0;32m     16\u001b[0m labels \u001b[38;5;241m=\u001b[39m {\n\u001b[0;32m     17\u001b[0m     \u001b[38;5;124m'\u001b[39m\u001b[38;5;124mlabels_list\u001b[39m\u001b[38;5;124m'\u001b[39m: labeler\u001b[38;5;241m.\u001b[39mget_labels(kind\u001b[38;5;241m=\u001b[39m\u001b[38;5;124m'\u001b[39m\u001b[38;5;124mlist\u001b[39m\u001b[38;5;124m'\u001b[39m),\n\u001b[0;32m     18\u001b[0m     \u001b[38;5;124m'\u001b[39m\u001b[38;5;124mlabels_dict\u001b[39m\u001b[38;5;124m'\u001b[39m: labeler\u001b[38;5;241m.\u001b[39mget_labels(kind\u001b[38;5;241m=\u001b[39m\u001b[38;5;124m'\u001b[39m\u001b[38;5;124mdict\u001b[39m\u001b[38;5;124m'\u001b[39m),\n\u001b[0;32m     19\u001b[0m     \u001b[38;5;124m'\u001b[39m\u001b[38;5;124mlabels_df\u001b[39m\u001b[38;5;124m'\u001b[39m: labeler\u001b[38;5;241m.\u001b[39mget_labels(kind\u001b[38;5;241m=\u001b[39m\u001b[38;5;124m'\u001b[39m\u001b[38;5;124mdataframe\u001b[39m\u001b[38;5;124m'\u001b[39m),\n\u001b[0;32m     20\u001b[0m }\n\u001b[1;32m---> 22\u001b[0m \u001b[38;5;28mprint\u001b[39m(\u001b[38;5;124mf\u001b[39m\u001b[38;5;124m\"\u001b[39m\u001b[38;5;124mNumber of labeled ROIs: \u001b[39m\u001b[38;5;132;01m{\u001b[39;00m\u001b[38;5;28mlen\u001b[39m(\u001b[43mlabels\u001b[49m\u001b[43m[\u001b[49m\u001b[38;5;124;43m'\u001b[39;49m\u001b[38;5;124;43mlist\u001b[39;49m\u001b[38;5;124;43m'\u001b[39;49m\u001b[43m]\u001b[49m)\u001b[38;5;132;01m}\u001b[39;00m\u001b[38;5;124m\"\u001b[39m)\n\u001b[0;32m     23\u001b[0m \u001b[38;5;28mprint\u001b[39m(\u001b[38;5;124mf\u001b[39m\u001b[38;5;124m\"\u001b[39m\u001b[38;5;124mpath to csv file: \u001b[39m\u001b[38;5;132;01m{\u001b[39;00mlabeler\u001b[38;5;241m.\u001b[39mpath_csv\u001b[38;5;132;01m}\u001b[39;00m\u001b[38;5;124m\"\u001b[39m)\n",
      "\u001b[1;31mKeyError\u001b[0m: 'list'"
     ]
    }
   ],
   "source": [
    "images = np.concatenate(data.ROI_images, axis=0)\n",
    "\n",
    "## Run the ImageLabeler class\n",
    "with roicat.helpers.ImageLabeler(\n",
    "    image_array=images, \n",
    "    start_index=0,  ## Change the starting image index here.\n",
    "    path_csv=None,  ## If None, then a temporary path will be used.\n",
    "    resize_factor=10.0,  \n",
    "    verbose=True,\n",
    "    key_end='Escape',  ## Closes GUI\n",
    "    key_prev='Left',  ## Goes to previous image\n",
    "    key_next='Right',  ## Goes to next image\n",
    ") as labeler:  ## Running this object within a context manager allows it to crash gracefully\n",
    "    labeler.run()\n",
    "    \n",
    "labels = {\n",
    "    'labels_list': labeler.get_labels(kind='list'),\n",
    "    'labels_dict': labeler.get_labels(kind='dict'),\n",
    "    'labels_df': labeler.get_labels(kind='dataframe'),\n",
    "}\n",
    "\n",
    "print(f\"Number of labeled ROIs: {len(labels['labels_list'])}\")\n",
    "print(f\"path to csv file: {labeler.path_csv}\")"
   ]
  },
  {
   "cell_type": "code",
   "execution_count": 106,
   "id": "67ecbe9a",
   "metadata": {},
   "outputs": [],
   "source": [
    "labels = {\n",
    "    'list': roicat.util.JSON_List(labeler.get_labels(kind='list')),\n",
    "    'df': labeler.get_labels(kind='dataframe'),\n",
    "}"
   ]
  },
  {
   "cell_type": "markdown",
   "id": "dff959bb",
   "metadata": {},
   "source": [
    "# Visualize results"
   ]
  },
  {
   "cell_type": "code",
   "execution_count": null,
   "id": "f148ff17",
   "metadata": {},
   "outputs": [],
   "source": [
    "u, c = np.unique(labels['df']['label'], return_counts=True)\n",
    "\n",
    "plt.figure()\n",
    "plt.bar(u, c);\n",
    "plt.xlabel('label');\n",
    "plt.ylabel('counts');"
   ]
  },
  {
   "cell_type": "code",
   "execution_count": null,
   "id": "2b8990d8",
   "metadata": {},
   "outputs": [],
   "source": [
    "roicat.visualization.display_labeled_ROIs(\n",
    "    images=images,\n",
    "#     labels=labels['label'].astype(np.int64),\n",
    "    labels=labels['df'],\n",
    "    max_images_per_label=10,\n",
    "    figsize=(10, 3),\n",
    "    fontsize=25,\n",
    "    shuffle=False,\n",
    ")"
   ]
  },
  {
   "cell_type": "markdown",
   "id": "53667b6f-0bb0-4738-8878-754998be0a55",
   "metadata": {},
   "source": [
    "# Save results\n",
    "\n",
    "The results file can be opened using any of the following methods:\n",
    "1. `roicat.helpers.pickle_load(path)`\n",
    "2. `np.load(path)`\n",
    "3. \n",
    "``` \n",
    "import pickle\n",
    "with open(path_save, mode='rb') as f:\n",
    "    test = pickle.load(f)\n",
    "  ```"
   ]
  },
  {
   "cell_type": "markdown",
   "id": "2b05ce96",
   "metadata": {},
   "source": [
    "##### Make and save results"
   ]
  },
  {
   "cell_type": "code",
   "execution_count": 109,
   "id": "9fdf21bc",
   "metadata": {},
   "outputs": [],
   "source": [
    "run_data = {\n",
    "    \"data\": data.__dict__,\n",
    "}\n",
    "results = {\n",
    "    \"labels\": labels,\n",
    "    \"images\": images,\n",
    "}"
   ]
  },
  {
   "cell_type": "code",
   "execution_count": null,
   "id": "c3b276ea",
   "metadata": {},
   "outputs": [],
   "source": [
    "## Define the directory to save the results to\n",
    "dir_save = '/media/rich/bigSSD/data_tmp/test_data/'\n",
    "name_save = 'mouse_1'\n",
    "\n",
    "paths_save = {\n",
    "    'labels':   str(Path(dir_save) / f'{name_save}.labeling.labels.csv'),\n",
    "    'results':  str(Path(dir_save) / f'{name_save}.labeling.results.richfile'),\n",
    "    'run_data': str(Path(dir_save) / f'{name_save}.labeling.run_data.richfile'),\n",
    "}\n",
    "\n",
    "## Save\n",
    "labels['df'].to_csv(paths_save['labels'])\n",
    "roicat.util.RichFile_ROICaT(path=paths_save['results']).save(results, overwrite=True)\n",
    "roicat.util.RichFile_ROICaT(path=paths_save['run_data']).save(run_data, overwrite=True)"
   ]
  },
  {
   "cell_type": "markdown",
   "id": "d3a77d9f-a95c-4533-9df7-07f105595630",
   "metadata": {},
   "source": [
    "# Thank you\n",
    "If you encountered any difficulties, please let us know at the issues page: https://github.com/RichieHakim/ROICaT/issues"
   ]
  },
  {
   "cell_type": "markdown",
   "id": "bbc6f6de",
   "metadata": {},
   "source": [
    "---\n",
    "# Extras"
   ]
  },
  {
   "cell_type": "markdown",
   "id": "9d17a236",
   "metadata": {},
   "source": [
    "## Merge and convert GUI CSV files into a results file"
   ]
  },
  {
   "cell_type": "markdown",
   "id": "dde9a8a1",
   "metadata": {},
   "source": [
    "##### 1. Make labels dictionary"
   ]
  },
  {
   "cell_type": "code",
   "execution_count": 99,
   "id": "c10c79e7",
   "metadata": {},
   "outputs": [],
   "source": [
    "import csv\n",
    "\n",
    "# path_csv = r'/home/rich/Desktop/test.csv'  ## Path to the raw output .csv file from the GUI\n",
    "path_csv = labeler.path_csv\n",
    "\n",
    "with open(path_csv, 'r') as f:\n",
    "    lines = np.array([line for line in csv.reader(f)], dtype=str)\n",
    "\n",
    "labels_dict = {int(idx): label for idx, label in zip(lines[1:, 0], lines[1:, 1])}"
   ]
  },
  {
   "cell_type": "markdown",
   "id": "ae8831b6",
   "metadata": {},
   "source": [
    "##### 2. Make images array"
   ]
  },
  {
   "cell_type": "code",
   "execution_count": null,
   "id": "4e69f525",
   "metadata": {},
   "outputs": [],
   "source": [
    "dir_data = r'/media/rich/bigSSD/downloads_tmp/tmp_data/mouse_0322R/statFiles/20230420/'\n",
    "\n",
    "\n",
    "path_stat = str(Path(dir_data) / 'stat.npy')\n",
    "path_ops = str(Path(dir_data) / 'ops.npy')\n",
    "\n",
    "data = roicat.data_importing.Data_suite2p(\n",
    "    paths_statFiles=[path_stat],\n",
    "    paths_opsFiles=[path_ops],\n",
    "    new_or_old_suite2p='new',\n",
    "    verbose=True,\n",
    ")\n",
    "\n",
    "assert data.check_completeness(verbose=False)['classification_inference'], f\"Data object is missing attributes necessary for tracking.\"\n",
    "\n",
    "images = np.concatenate(data.ROI_images, axis=0)"
   ]
  },
  {
   "cell_type": "markdown",
   "id": "51f24fc8",
   "metadata": {},
   "source": [
    "##### 3. Make the results dictionary"
   ]
  },
  {
   "cell_type": "code",
   "execution_count": 103,
   "id": "34cd5440",
   "metadata": {},
   "outputs": [],
   "source": [
    "import pandas as pd\n",
    "\n",
    "labels_list = ['None'] * len(labels_dict)\n",
    "for idx, label in labels_dict.items():\n",
    "    labels_list[idx] = label\n",
    "\n",
    "labels_df = pd.DataFrame(index=list(labels_dict.keys()), data=labels_list, columns=['label'])\n",
    "\n",
    "labels = {\n",
    "    'list': roicat.util.JSON_List(labels_list),\n",
    "    'dict': roicat.util.JSON_Dict(labels_dict),\n",
    "    'df': labels_df,\n",
    "}"
   ]
  },
  {
   "cell_type": "code",
   "execution_count": 104,
   "id": "86700770",
   "metadata": {},
   "outputs": [],
   "source": [
    "run_data = {\n",
    "    \"data\": data.__dict__,\n",
    "}\n",
    "results = {\n",
    "    \"labels\": labels,\n",
    "    \"images\": images,\n",
    "}"
   ]
  },
  {
   "cell_type": "markdown",
   "id": "5c853297",
   "metadata": {},
   "source": [
    "##### 4. Save the results dictionary"
   ]
  },
  {
   "cell_type": "code",
   "execution_count": null,
   "id": "efefa1af",
   "metadata": {},
   "outputs": [],
   "source": [
    "## Define the directory to save the results to\n",
    "dir_save = '/media/rich/bigSSD/data_tmp/test_data/'\n",
    "name_save = 'mouse_1'\n",
    "\n",
    "paths_save = {\n",
    "    'labels':   str(Path(dir_save) / f'{name_save}.labeling.labels.json'),\n",
    "    'results':  str(Path(dir_save) / f'{name_save}.labeling.results.richfile'),\n",
    "    'run_data': str(Path(dir_save) / f'{name_save}.labeling.run_data.richfile'),\n",
    "}\n",
    "\n",
    "roicat.helpers.json_save(obj=roicat.util.JSON_List(labels['list']), filepath=paths_save['labels'])\n",
    "roicat.util.RichFile_ROICaT(path=paths_save['results']).save(results, overwrite=True)\n",
    "roicat.util.RichFile_ROICaT(path=paths_save['run_data']).save(run_data, overwrite=True)"
   ]
  },
  {
   "cell_type": "code",
   "execution_count": null,
   "id": "725c4f38",
   "metadata": {},
   "outputs": [],
   "source": []
  }
 ],
 "metadata": {
  "kernelspec": {
   "display_name": "ROICaT",
   "language": "python",
   "name": "python3"
  },
  "language_info": {
   "codemirror_mode": {
    "name": "ipython",
    "version": 3
   },
   "file_extension": ".py",
   "mimetype": "text/x-python",
   "name": "python",
   "nbconvert_exporter": "python",
   "pygments_lexer": "ipython3",
   "version": "3.11.6"
  }
 },
 "nbformat": 4,
 "nbformat_minor": 5
}
