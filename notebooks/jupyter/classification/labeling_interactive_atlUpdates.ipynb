{
 "cells": [
  {
   "cell_type": "markdown",
   "id": "c6860758-e614-4e0b-b9bb-3cc55af78e9c",
   "metadata": {},
   "source": [
    "# Intro"
   ]
  },
  {
   "cell_type": "markdown",
   "id": "82a37590-30ae-4d92-a889-0c173759fae9",
   "metadata": {},
   "source": [
    "Welcome to the interactive labeling notebook!\n",
    "\n",
    "The notebook proceeds as follows:\n",
    "\n",
    "1. **Import** libraries\n",
    "2. Define **paths** to data\n",
    "3. **Label** ROI images using a simple GUI\n",
    "4. **Visualize** results\n",
    "5. **Save** results\n"
   ]
  },
  {
   "cell_type": "markdown",
   "id": "3e3bccb7",
   "metadata": {},
   "source": [
    "- If you need to restart a session, don't worry. Your results are continuously saved in the CSV file and you can just start from where you left off.\n",
    "- We recommend labeling one session at a time so that the results can be saved with the data."
   ]
  },
  {
   "cell_type": "markdown",
   "id": "c4a1f6ef-7075-4cc3-a046-dd170bb957b9",
   "metadata": {},
   "source": [
    "# Import libraries"
   ]
  },
  {
   "cell_type": "markdown",
   "id": "452c74a7-c5bb-4b8b-ad89-b52323b131b0",
   "metadata": {},
   "source": [
    "Widen the notebook"
   ]
  },
  {
   "cell_type": "code",
   "execution_count": 1,
   "id": "bab4b303",
   "metadata": {},
   "outputs": [
    {
     "data": {
      "text/html": [
       "<style>.container {width:95% !important; }</style>"
      ],
      "text/plain": [
       "<IPython.core.display.HTML object>"
      ]
     },
     "metadata": {},
     "output_type": "display_data"
    }
   ],
   "source": [
    "# widen jupyter notebook window\n",
    "from IPython.display import display, HTML\n",
    "display(HTML(\"<style>.container {width:95% !important; }</style>\"))"
   ]
  },
  {
   "cell_type": "markdown",
   "id": "d0fe2758-1ac9-4a38-986e-5fd0dc26746b",
   "metadata": {},
   "source": [
    "Import basic libraries"
   ]
  },
  {
   "cell_type": "code",
   "execution_count": 2,
   "id": "7049a2b0-a884-424a-b685-52205b885254",
   "metadata": {},
   "outputs": [],
   "source": [
    "from pathlib import Path\n",
    "import random\n",
    "\n",
    "import numpy as np\n",
    "import matplotlib.pyplot as plt"
   ]
  },
  {
   "cell_type": "markdown",
   "id": "3e77df19-80a4-4fa9-b7df-e19647d0727a",
   "metadata": {},
   "source": [
    "Import `roicat`"
   ]
  },
  {
   "cell_type": "code",
   "execution_count": 3,
   "id": "6a8e0dd0-f42b-48a9-a0ac-6a928e9e056f",
   "metadata": {},
   "outputs": [],
   "source": [
    "# %load_ext autoreload\n",
    "# %autoreload 2\n",
    "import roicat"
   ]
  },
  {
   "cell_type": "code",
   "execution_count": 4,
   "metadata": {},
   "outputs": [],
   "source": [
    "# Import vrAnalysis related code\n",
    "from vrAnalysis import database\n",
    "from vrAnalysis import fileManagement"
   ]
  },
  {
   "cell_type": "markdown",
   "id": "670046e1-e139-4a5b-a946-57ba7e59794c",
   "metadata": {},
   "source": [
    "# Find paths to data"
   ]
  },
  {
   "cell_type": "markdown",
   "id": "872ed40f-14d1-47d5-82cb-27eb991e49e0",
   "metadata": {},
   "source": [
    "##### Prepare list of paths to data"
   ]
  },
  {
   "cell_type": "markdown",
   "id": "469b96a5-db27-418e-8f40-f62a6760f6d6",
   "metadata": {},
   "source": [
    "In this example we are using suite2p output files, but other data types can be used (CaImAn, etc.) \\\n",
    "See the notebook on ingesting diverse data: https://github.com/RichieHakim/ROICaT/blob/main/notebooks/jupyter/other/demo_custom_data_importing.ipynb\n",
    "\n",
    "Make a list containing the paths to all the input files.\n",
    "\n",
    "In this example we are using suite2p, so the following are defined:\n",
    "1. `paths_allStat`: a list to all the stat.npy files\n",
    "2. `paths_allOps`: a list with ops.npy files that correspond 1-to-1 with the stat.npy files"
   ]
  },
  {
   "cell_type": "code",
   "execution_count": 5,
   "metadata": {},
   "outputs": [
    {
     "name": "stdout",
     "output_type": "stream",
     "text": [
      "0 C:\\Users\\andrew\\Documents\\localData\\ATL012\\2023-01-18\\701\n",
      "1 C:\\Users\\andrew\\Documents\\localData\\ATL012\\2023-01-20\\702\n",
      "2 C:\\Users\\andrew\\Documents\\localData\\ATL012\\2023-01-23\\701\n",
      "3 C:\\Users\\andrew\\Documents\\localData\\ATL012\\2023-01-24\\703\n",
      "4 C:\\Users\\andrew\\Documents\\localData\\ATL012\\2023-01-25\\701\n",
      "5 C:\\Users\\andrew\\Documents\\localData\\ATL012\\2023-01-26\\702\n",
      "6 C:\\Users\\andrew\\Documents\\localData\\ATL012\\2023-01-27\\701\n",
      "7 C:\\Users\\andrew\\Documents\\localData\\ATL012\\2023-01-30\\702\n",
      "8 C:\\Users\\andrew\\Documents\\localData\\ATL012\\2023-02-01\\701\n",
      "9 C:\\Users\\andrew\\Documents\\localData\\ATL012\\2023-02-02\\701\n",
      "10 C:\\Users\\andrew\\Documents\\localData\\ATL012\\2023-02-06\\701\n",
      "11 C:\\Users\\andrew\\Documents\\localData\\ATL012\\2023-02-07\\701\n",
      "12 C:\\Users\\andrew\\Documents\\localData\\ATL012\\2023-02-08\\702\n",
      "13 C:\\Users\\andrew\\Documents\\localData\\ATL012\\2023-02-09\\701\n",
      "14 C:\\Users\\andrew\\Documents\\localData\\ATL012\\2023-02-14\\703\n",
      "15 C:\\Users\\andrew\\Documents\\localData\\ATL012\\2023-02-15\\701\n",
      "16 C:\\Users\\andrew\\Documents\\localData\\ATL012\\2023-02-16\\701\n",
      "17 C:\\Users\\andrew\\Documents\\localData\\ATL012\\2023-02-20\\701\n",
      "18 C:\\Users\\andrew\\Documents\\localData\\ATL012\\2023-02-21\\702\n",
      "19 C:\\Users\\andrew\\Documents\\localData\\ATL012\\2023-02-22\\701\n",
      "20 C:\\Users\\andrew\\Documents\\localData\\ATL012\\2023-02-27\\701\n",
      "21 C:\\Users\\andrew\\Documents\\localData\\ATL012\\2023-02-28\\701\n",
      "22 C:\\Users\\andrew\\Documents\\localData\\ATL012\\2023-03-01\\701\n",
      "23 C:\\Users\\andrew\\Documents\\localData\\ATL012\\2023-03-03\\701\n"
     ]
    }
   ],
   "source": [
    "# Create link to vrDatabase containing all data and get session paths for target mouse\n",
    "mouseName = \"ATL012\"\n",
    "planeName = \"plane0\"\n",
    "vrdb = database.vrDatabase('vrSessions')\n",
    "ises = vrdb.iterSessions(imaging=True, mouseName=mouseName, dontTrack=False)\n",
    "pathList = []\n",
    "for ses in ises:\n",
    "    pathList.append(ses.sessionPath())\n",
    "for idx, pl in enumerate(pathList): print(idx, pl)"
   ]
  },
  {
   "cell_type": "code",
   "execution_count": 12,
   "id": "988251d8-83f2-4840-a509-0baa812c3688",
   "metadata": {},
   "outputs": [
    {
     "name": "stderr",
     "output_type": "stream",
     "text": [
      "c:\\users\\andrew\\documents\\github\\roicat\\roicat\\util.py:411: UserWarning: RH WARNING: unable to get gcc version. Got error: [WinError 2] The system cannot find the file specified\n",
      "  warnings.warn(f'RH WARNING: unable to get gcc version. Got error: {e}')\n"
     ]
    },
    {
     "name": "stdout",
     "output_type": "stream",
     "text": [
      "Starting: Importing FOV images from ops files\n",
      "Completed: Set FOV_height and FOV_width successfully.\n",
      "Completed: Imported 1 FOV images.\n",
      "Completed: Set FOV_images for 1 sessions successfully.\n",
      "Importing spatial footprints from stat files.\n"
     ]
    },
    {
     "name": "stderr",
     "output_type": "stream",
     "text": [
      "100%|██████████| 1/1 [00:00<00:00,  4.87it/s]\n"
     ]
    },
    {
     "name": "stdout",
     "output_type": "stream",
     "text": [
      "Imported 1 sessions of spatial footprints into sparse arrays.\n",
      "Completed: Set spatialFootprints for 1 sessions successfully.\n",
      "Completed: Created session_bool.\n",
      "Completed: Created centroids.\n",
      "Staring: Creating centered ROI images from spatial footprints...\n",
      "Completed: Created ROI images.\n"
     ]
    }
   ],
   "source": [
    "dir_data = pathList[10] / 'suite2p' / 'plane0' #r'/media/rich/bigSSD/analysis_data/face_rhythm/mouse_0403L/stat_and_ops'\n",
    "\n",
    "path_stat = str(Path(dir_data) / 'stat.npy')\n",
    "path_ops = str(Path(dir_data) / 'ops.npy')\n",
    "\n",
    "data = roicat.data_importing.Data_suite2p(\n",
    "    paths_statFiles=[path_stat],\n",
    "    paths_opsFiles=[path_ops],\n",
    "    new_or_old_suite2p='new',\n",
    "    verbose=True,\n",
    ")\n",
    "\n",
    "assert data.check_completeness(verbose=False)['classification_inference'], f\"Data object is missing attributes necessary for tracking.\""
   ]
  },
  {
   "cell_type": "markdown",
   "id": "9940b64f",
   "metadata": {},
   "source": [
    "# Label data"
   ]
  },
  {
   "cell_type": "markdown",
   "id": "229488f2",
   "metadata": {},
   "source": [
    "How to use this GUI:\n",
    "- Each image will be shown one at a time. You can go to previous and next images by using the ***Left*** and ***Right*** arrow keys, and can close the GUI by pressing the ***Escape*** key.\n",
    "- Label the image by pressing any key on your keyboard. This key will be used as the label. After each key press, the following occurs:\n",
    "    1. The results will be saved as a CSV file at `path_csv` (will be a temporary file if not specified)\n",
    "    2. The results will also be stored in the python object as `ImageLabeler_obj.labels_`.\n",
    "    2. The GUI should progress to the next image.\n",
    "    3. Finish labeling by closing out of the GUI window or pressing the user defined '`end_key`' (***Escape*** by default).\n",
    "- The results are stored in a temporary CSV file with two columns: 'index' and 'label'. This file can be used to recover lost labeling session data. We will save more comprehensive results files at the end of the notebook.\n",
    "    - **'index'**: The index within the data object. 0-indexed.\n",
    "    - **'label'**: The key pressed for that image in the labeling GUI.\n",
    "- To start at a different image index than 0, change the `start_index` argument."
   ]
  },
  {
   "cell_type": "code",
   "execution_count": 13,
   "id": "88429888",
   "metadata": {},
   "outputs": [],
   "source": [
    "images = data.ROI_images[0]\n",
    "\n",
    "## Run the ImageLabeler class\n",
    "with roicat.helpers.ImageLabeler(\n",
    "    image_array=images, \n",
    "    start_index=0,  ## Change the starting image index here.\n",
    "    path_csv=None,  ## If None, then a temporary path will be used.\n",
    "    resize_factor=10.0,  \n",
    "    verbose=True,\n",
    "    key_end='Escape',  ## Closes GUI\n",
    "    key_prev='Left',  ## Goes to previous image\n",
    "    key_next='Right',  ## Goes to next image\n",
    ") as labeler:  ## Running this object within a context manager allows it to crash gracefully\n",
    "    labeler.run()\n",
    "    \n",
    "path_csv = labeler.path_csv\n",
    "labels = labeler.get_labels(kind='dataframe')\n",
    "\n",
    "print(f\"Number of labeled ROIs: {len(labels['index'])}\")\n",
    "print(f\"path to csv file: {path_csv}\")"
   ]
  },
  {
   "cell_type": "markdown",
   "id": "dff959bb",
   "metadata": {},
   "source": [
    "# Visualize results"
   ]
  },
  {
   "cell_type": "code",
   "execution_count": 16,
   "id": "f148ff17",
   "metadata": {},
   "outputs": [
    {
     "data": {
      "image/png": "[encoded data removed]",
      "text/plain": [
       "<Figure size 640x480 with 1 Axes>"
      ]
     },
     "metadata": {},
     "output_type": "display_data"
    }
   ],
   "source": [
    "plt.figure()\n",
    "plt.hist(labels['label']);\n",
    "plt.xlabel('label');\n",
    "plt.ylabel('counts');"
   ]
  },
  {
   "cell_type": "code",
   "execution_count": 17,
   "id": "2b8990d8",
   "metadata": {},
   "outputs": [
    {
     "data": {
      "image/png": "[encoded data removed]",
      "text/plain": [
       "<Figure size 1000x300 with 10 Axes>"
      ]
     },
     "metadata": {},
     "output_type": "display_data"
    },
    {
     "data": {
      "image/png": "[encoded data removed]",
      "text/plain": [
       "<Figure size 1000x300 with 10 Axes>"
      ]
     },
     "metadata": {},
     "output_type": "display_data"
    }
   ],
   "source": [
    "roicat.visualization.display_labeled_ROIs(\n",
    "    images=images,\n",
    "#     labels=labels['label'].astype(np.int64),\n",
    "    labels=labels,\n",
    "    max_images_per_label=10,\n",
    "    figsize=(10, 3),\n",
    "    fontsize=25,\n",
    "    shuffle=False,\n",
    ")"
   ]
  },
  {
   "cell_type": "markdown",
   "id": "53667b6f-0bb0-4738-8878-754998be0a55",
   "metadata": {},
   "source": [
    "# Save results\n",
    "\n",
    "The results file can be opened using any of the following methods:\n",
    "1. `roicat.helpers.pickle_load(path)`\n",
    "2. `np.load(path)`\n",
    "3. \n",
    "``` \n",
    "import pickle\n",
    "with open(path_save, mode='rb') as f:\n",
    "    test = pickle.load(f)\n",
    "  ```"
   ]
  },
  {
   "cell_type": "markdown",
   "id": "2b05ce96",
   "metadata": {},
   "source": [
    "##### Make the results dictionary"
   ]
  },
  {
   "cell_type": "code",
   "execution_count": 18,
   "id": "1e83c4e0",
   "metadata": {},
   "outputs": [],
   "source": [
    "data_info = data.serializable_dict  ## pull out the data from the data object into a dictionary\n",
    "[data_info.pop(key) for key in ['ROI_images', 'spatialFootprints'] if key in data_info]  ## remove the large data items from the data object\n",
    "\n",
    "results = {\n",
    "    'labels': labels,\n",
    "    'images': images,\n",
    "    'data_info': data_info,\n",
    "}"
   ]
  },
  {
   "cell_type": "markdown",
   "id": "5680357c",
   "metadata": {},
   "source": [
    "##### Save the results dictionary"
   ]
  },
  {
   "cell_type": "code",
   "execution_count": 19,
   "id": "be8cdb20-eb78-4cb7-9e85-b67c68c358ff",
   "metadata": {},
   "outputs": [
    {
     "name": "stdout",
     "output_type": "stream",
     "text": [
      "path_save: /home/rich/Desktop/test.ROICaT.labeling.results.pkl\n"
     ]
    }
   ],
   "source": [
    "dir_save = r'/home/rich/Desktop/'\n",
    "filename_save = 'test'\n",
    "\n",
    "path_save = str(Path(dir_save).resolve() / (filename_save + '.ROICaT.labeling.results' + '.pkl'))\n",
    "print(f'path_save: {path_save}')\n",
    "\n",
    "roicat.helpers.pickle_save(results, path_save)"
   ]
  },
  {
   "cell_type": "markdown",
   "id": "d3a77d9f-a95c-4533-9df7-07f105595630",
   "metadata": {},
   "source": [
    "# Thank you\n",
    "If you encountered any difficulties, please let us know at the issues page: https://github.com/RichieHakim/ROICaT/issues"
   ]
  },
  {
   "cell_type": "markdown",
   "id": "bbc6f6de",
   "metadata": {},
   "source": [
    "---\n",
    "# Extras"
   ]
  },
  {
   "cell_type": "markdown",
   "id": "9d17a236",
   "metadata": {},
   "source": [
    "## Merge and convert GUI CSV files into a results file"
   ]
  },
  {
   "cell_type": "markdown",
   "id": "dde9a8a1",
   "metadata": {},
   "source": [
    "##### 1. Make labels dataframe"
   ]
  },
  {
   "cell_type": "code",
   "execution_count": null,
   "id": "c10c79e7",
   "metadata": {},
   "outputs": [],
   "source": [
    "import csv\n",
    "\n",
    "path_csv = r'/home/rich/Desktop/test.csv'  ## Path to the raw output .csv file from the GUI\n",
    "\n",
    "with open(path_csv, 'r') as f:\n",
    "    lines = np.array([line for line in csv.reader(f)], dtype=str)\n",
    "    labels = {}\n",
    "    labels['index'] = np.array(lines[1:, 0], dtype=np.int64)\n",
    "    labels['label'] = lines[1:, 1]"
   ]
  },
  {
   "cell_type": "markdown",
   "id": "ae8831b6",
   "metadata": {},
   "source": [
    "##### 2. Make images array"
   ]
  },
  {
   "cell_type": "code",
   "execution_count": 12,
   "id": "4e69f525",
   "metadata": {},
   "outputs": [
    {
     "name": "stdout",
     "output_type": "stream",
     "text": [
      "Starting: Importing FOV images from ops files\n",
      "Completed: Set FOV_height and FOV_width successfully.\n",
      "Completed: Imported 1 FOV images.\n",
      "Completed: Set FOV_images for 1 sessions successfully.\n",
      "Importing spatial footprints from stat files.\n"
     ]
    },
    {
     "name": "stderr",
     "output_type": "stream",
     "text": [
      "100%|█████████████████████████████████████████████| 1/1 [00:00<00:00,  1.66it/s]"
     ]
    },
    {
     "name": "stdout",
     "output_type": "stream",
     "text": [
      "Imported 1 sessions of spatial footprints into sparse arrays.\n",
      "Completed: Set spatialFootprints for 1 sessions successfully.\n",
      "Completed: Created session_bool.\n",
      "Completed: Created centroids.\n",
      "Staring: Creating centered ROI images from spatial footprints...\n",
      "Completed: Created ROI images.\n"
     ]
    },
    {
     "name": "stderr",
     "output_type": "stream",
     "text": [
      "\n"
     ]
    }
   ],
   "source": [
    "dir_data = r'/media/rich/bigSSD/downloads_tmp/tmp_data/mouse_0322R/statFiles/20230420/'\n",
    "\n",
    "\n",
    "path_stat = str(Path(dir_data) / 'stat.npy')\n",
    "path_ops = str(Path(dir_data) / 'ops.npy')\n",
    "\n",
    "data = roicat.data_importing.Data_suite2p(\n",
    "    paths_statFiles=[path_stat],\n",
    "    paths_opsFiles=[path_ops],\n",
    "    new_or_old_suite2p='new',\n",
    "    verbose=True,\n",
    ")\n",
    "\n",
    "assert data.check_completeness(verbose=False)['classification_inference'], f\"Data object is missing attributes necessary for tracking.\"\n",
    "\n",
    "images = data.ROI_images[0]"
   ]
  },
  {
   "cell_type": "markdown",
   "id": "51f24fc8",
   "metadata": {},
   "source": [
    "##### 3. Make the results dictionary"
   ]
  },
  {
   "cell_type": "code",
   "execution_count": 13,
   "id": "5baef8e5",
   "metadata": {},
   "outputs": [],
   "source": [
    "data_info = data.serializable_dict  ## pull out the data from the data object into a dictionary\n",
    "[data_info.pop(key) for key in ['ROI_images', 'spatialFootprints'] if key in data_info]  ## remove the large data items from the data object\n",
    "\n",
    "results = {\n",
    "    'labels': labels,\n",
    "    'images': images,\n",
    "    'data_info': data_info,\n",
    "}"
   ]
  },
  {
   "cell_type": "markdown",
   "id": "6d17e16b",
   "metadata": {},
   "source": [
    "##### 4. Save the results dictionary"
   ]
  },
  {
   "cell_type": "code",
   "execution_count": null,
   "id": "5c74f445",
   "metadata": {},
   "outputs": [],
   "source": [
    "dir_save = r'/home/rich/Desktop/'\n",
    "filename_save = 'test'\n",
    "\n",
    "path_save = str(Path(dir_save).resolve() / (filename_save + '.ROICaT.labeling.results' + '.pkl'))\n",
    "print(f'path_save: {path_save}')\n",
    "\n",
    "roicat.helpers.pickle_save(results, path_save)"
   ]
  },
  {
   "cell_type": "code",
   "execution_count": null,
   "id": "a1e37361",
   "metadata": {},
   "outputs": [],
   "source": []
  }
 ],
 "metadata": {
  "kernelspec": {
   "display_name": "Python 3 (ipykernel)",
   "language": "python",
   "name": "python3"
  },
  "language_info": {
   "codemirror_mode": {
    "name": "ipython",
    "version": 3
   },
   "file_extension": ".py",
   "mimetype": "text/x-python",
   "name": "python",
   "nbconvert_exporter": "python",
   "pygments_lexer": "ipython3",
   "version": "3.11.6"
  }
 },
 "nbformat": 4,
 "nbformat_minor": 5
}
